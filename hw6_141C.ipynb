{
 "cells": [
  {
   "cell_type": "markdown",
   "metadata": {},
   "source": [
    "# STA 141B: Homework 6\n",
    "Winter 2018"
   ]
  },
  {
   "cell_type": "markdown",
   "metadata": {},
   "source": [
    "## Student Information\n",
    "\n",
    "After the colons (in the same line) please write just your first name, last name, and the 9 digit student ID number below.\n",
    "\n",
    "First Name: Zihan\n",
    "\n",
    "Last Name: Xiao\n",
    "\n",
    "Student ID: 915532809"
   ]
  },
  {
   "cell_type": "markdown",
   "metadata": {},
   "source": [
    "## Instructions\n",
    "\n",
    "We use a script that extracts your answers by looking for cells in between the cells containing the exercise statements.  So you \n",
    "\n",
    "- MUST add cells in between the exercise statements and add answers within them and\n",
    "- MUST NOT modify the existing cells, particularly not the problem statement\n",
    "\n",
    "To make markdown, please switch the cell type to markdown (from code) - you can hit 'm' when you are in command mode - and use the markdown language.  For a brief tutorial see: https://daringfireball.net/projects/markdown/syntax"
   ]
  },
  {
   "cell_type": "markdown",
   "metadata": {},
   "source": [
    "# Web scraping the Aggie\n",
    "\n",
    "In this assignment, you'll scrape text from [The California Aggie](https://theaggie.org/) and then analyze the text.\n",
    "\n",
    "The Aggie is organized by category into article lists. For example, there's a [Campus News](https://theaggie.org/campus/) list, [Arts & Culture](https://theaggie.org/arts/) list, and [Sports](https://theaggie.org/sports/) list. Notice that each list has multiple pages, with a maximum of 15 articles per page.\n",
    "\n",
    "The goal of exercises 1.1 - 1.3 is to scrape articles from the Aggie for analysis in exercise 1.4."
   ]
  },
  {
   "cell_type": "markdown",
   "metadata": {},
   "source": [
    "__Exercise 1.1.__ Write a function that extracts all of the links to articles in an Aggie article list. The function should:\n",
    "\n",
    "* Have a parameter `url` for the URL of the article list.\n",
    "\n",
    "* Have a parameter `page` for the number of pages to fetch links from. The default should be `1`.\n",
    "\n",
    "* Return a list of aricle URLs (each URL should be a string).\n",
    "\n",
    "Test your function on 2-3 different categories to make sure it works.\n",
    "\n",
    "Hints:\n",
    "\n",
    "* Be polite to The Aggie and save time by setting up [requests_cache](https://pypi.python.org/pypi/requests-cache) before you write your function.\n",
    "\n",
    "* Start by getting your function to work for just 1 page. Once that works, have your function call itself to get additional pages.\n",
    "\n",
    "* You can use [lxml.html](http://lxml.de/lxmlhtml.html) or [BeautifulSoup](https://www.crummy.com/software/BeautifulSoup/bs4/doc/) to scrape HTML. Choose one and use it throughout the entire assignment."
   ]
  },
  {
   "cell_type": "code",
   "execution_count": 1,
   "metadata": {},
   "outputs": [],
   "source": [
    "import lxml.html as lx\n",
    "import pandas as pd\n",
    "import requests\n",
    "import requests_cache\n",
    "import numpy as np\n",
    "import itertools\n",
    "requests_cache.install_cache(\"cache\")"
   ]
  },
  {
   "cell_type": "code",
   "execution_count": 2,
   "metadata": {},
   "outputs": [],
   "source": [
    "def web_scrap(url = \"https://theaggie.org/campus/\", page = 1):\n",
    "    \"\"\"\n",
    "    para: url: url of the article list, page: number of pages\n",
    "    return: a list of url strings\n",
    "    \"\"\"\n",
    "    links = []\n",
    "    for i in list(range(1, page+1)):\n",
    "        url1 = url + 'page/' + str(i)+\"/\"\n",
    "        response = requests.get(url1)\n",
    "        response.raise_for_status()\n",
    "        doc = response.text\n",
    "        html = lx.fromstring(doc, base_url = url1)\n",
    "        html.make_links_absolute()\n",
    "        link = html.xpath(\"//h2[@class ='entry-title']/a/@href\")\n",
    "        links = links + [str(x) for x in link]\n",
    "    return links"
   ]
  },
  {
   "cell_type": "code",
   "execution_count": 3,
   "metadata": {},
   "outputs": [
    {
     "data": {
      "text/plain": [
       "['https://theaggie.org/2018/03/13/last-week-in-senate-25/',\n",
       " 'https://theaggie.org/2018/03/12/uc-regents-will-vote-on-nonresident-tuition-hike-on-wednesday/',\n",
       " 'https://theaggie.org/2018/03/12/cheating-allegations-in-soc-46a/',\n",
       " 'https://theaggie.org/2018/03/12/chancellor-creates-three-task-forces-to-improve-student-life/',\n",
       " 'https://theaggie.org/2018/03/06/duke-law-professor-presents-lecture-voting-rights-law/',\n",
       " 'https://theaggie.org/2018/03/05/last-week-senate-25-8/',\n",
       " 'https://theaggie.org/2018/03/05/icc-warns-students-wary-suspicious-job-offering/',\n",
       " 'https://theaggie.org/2018/03/04/uc-davis-student-protester-arrested-yiannopoulos-talk-last-year-awaits-trial/',\n",
       " 'https://theaggie.org/2018/03/01/executive-ticket-candidates-claim-biases-non-asucd-affiliated-individuals/',\n",
       " 'https://theaggie.org/2018/03/01/happiness-campaign-strives-less-stress-joy/',\n",
       " 'https://theaggie.org/2018/02/27/senator-term-review-yajaira-ramirez-sigala/',\n",
       " 'https://theaggie.org/2018/02/27/calpirgs-winter-quarter-pledge-drives/',\n",
       " 'https://theaggie.org/2018/02/26/asucd-election-results-announced-2/',\n",
       " 'https://theaggie.org/2018/02/26/sexual-violence-prevention-response-board-created/',\n",
       " 'https://theaggie.org/2018/02/26/memoriam-markos-huerta/']"
      ]
     },
     "execution_count": 3,
     "metadata": {},
     "output_type": "execute_result"
    }
   ],
   "source": [
    "web_scrap(page = 1)"
   ]
  },
  {
   "cell_type": "code",
   "execution_count": 4,
   "metadata": {},
   "outputs": [
    {
     "data": {
      "text/plain": [
       "['https://theaggie.org/2018/03/13/last-week-in-senate-25/',\n",
       " 'https://theaggie.org/2018/03/12/uc-regents-will-vote-on-nonresident-tuition-hike-on-wednesday/',\n",
       " 'https://theaggie.org/2018/03/12/cheating-allegations-in-soc-46a/',\n",
       " 'https://theaggie.org/2018/03/12/chancellor-creates-three-task-forces-to-improve-student-life/',\n",
       " 'https://theaggie.org/2018/03/06/duke-law-professor-presents-lecture-voting-rights-law/',\n",
       " 'https://theaggie.org/2018/03/05/last-week-senate-25-8/',\n",
       " 'https://theaggie.org/2018/03/05/icc-warns-students-wary-suspicious-job-offering/',\n",
       " 'https://theaggie.org/2018/03/04/uc-davis-student-protester-arrested-yiannopoulos-talk-last-year-awaits-trial/',\n",
       " 'https://theaggie.org/2018/03/01/executive-ticket-candidates-claim-biases-non-asucd-affiliated-individuals/',\n",
       " 'https://theaggie.org/2018/03/01/happiness-campaign-strives-less-stress-joy/',\n",
       " 'https://theaggie.org/2018/02/27/senator-term-review-yajaira-ramirez-sigala/',\n",
       " 'https://theaggie.org/2018/02/27/calpirgs-winter-quarter-pledge-drives/',\n",
       " 'https://theaggie.org/2018/02/26/asucd-election-results-announced-2/',\n",
       " 'https://theaggie.org/2018/02/26/sexual-violence-prevention-response-board-created/',\n",
       " 'https://theaggie.org/2018/02/26/memoriam-markos-huerta/',\n",
       " 'https://theaggie.org/2018/02/25/traditional-chinese-music-classes-offered-uc-davis-confucius-institute/',\n",
       " 'https://theaggie.org/2018/02/25/last-week-senate-25-7/',\n",
       " 'https://theaggie.org/2018/02/22/asucd-executive-tickets-hold-coho-debate/',\n",
       " 'https://theaggie.org/2018/02/22/mental-health-town-hall-erupts-protest/',\n",
       " 'https://theaggie.org/2018/02/22/asucd-senate-candidates-debate-largely-inattentive-crowd/',\n",
       " 'https://theaggie.org/2018/02/22/adam-hatefi-shreya-deshpande-disqualified-missing-mandatory-candidate-workshop/',\n",
       " 'https://theaggie.org/2018/02/20/last-week-senate-25-6/',\n",
       " 'https://theaggie.org/2018/02/20/formerly-incarcerated-students-publish-zine-spread-stories/',\n",
       " 'https://theaggie.org/2018/02/19/uaw-ucop-start-collective-bargaining-march/',\n",
       " 'https://theaggie.org/2018/02/19/senator-term-review-marcos-rodriguez/',\n",
       " 'https://theaggie.org/2018/02/19/2018-asucd-winter-elections-meet-candidates/',\n",
       " 'https://theaggie.org/2018/02/16/director-counseling-psychological-services-terminated-raising-concerns-allocation-mental-health-funds/',\n",
       " 'https://theaggie.org/2018/02/15/period-holds-pad-tampon-drive-first-informational-meeting/',\n",
       " 'https://theaggie.org/2018/02/15/chancellor-may-appoints-kelly-ratliff-new-vice-chancellor/',\n",
       " 'https://theaggie.org/2018/02/15/transgender-author-janet-mock-discusses-intersectionality-uc-davis/']"
      ]
     },
     "execution_count": 4,
     "metadata": {},
     "output_type": "execute_result"
    }
   ],
   "source": [
    "web_scrap(page = 2)"
   ]
  },
  {
   "cell_type": "markdown",
   "metadata": {},
   "source": [
    "__Exercise 1.2.__ Write a function that extracts the title, text, and author of an Aggie article. The function should:\n",
    "\n",
    "* Have a parameter `url` for the URL of the article.\n",
    "\n",
    "* For the author, extract the \"Written By\" line that appears at the end of most articles. You don't have to extract the author's name from this line.\n",
    "\n",
    "* Return a dictionary with keys \"url\", \"title\", \"text\", and \"author\". The values for these should be the article url, title, text, and author, respectively.\n",
    "\n",
    "For example, for [this article](https://theaggie.org/2017/02/14/project-toto-aims-to-address-questions-regarding-city-finances/) your function should return something similar to this:\n",
    "```\n",
    "{\n",
    "    'author': u'Written By: Bianca Antunez \\xa0\\u2014\\xa0city@theaggie.org',\n",
    "    'text': u'Davis residents create financial model to make city\\'s financial state more transparent To increase transparency between the city\\'s financial situation and the community, three residents created a model called Project Toto which aims to improve how the city communicates its finances in an easily accessible design. Jeff Miller and Matt Williams, who are members of Davis\\' Finance and Budget Commission, joined together with Davis entrepreneur Bob Fung to create the model plan to bring the project to the Finance and Budget Commission in February, according to Kelly Stachowicz, assistant city manager. \"City staff appreciate the efforts that have gone into this, and the interest in trying to look at the city\\'s potential financial position over the long term,\" Stachowicz said in an email interview. \"We all have a shared goal to plan for a sound fiscal future with few surprises. We believe the Project Toto effort will mesh well with our other efforts as we build the budget for the next fiscal year and beyond.\" Project Toto complements the city\\'s effort to amplify the transparency of city decisions to community members. The aim is to increase the understanding about the city\\'s financial situation and make the information more accessible and easier to understand. The project is mostly a tool for public education, but can also make predictions about potential decisions regarding the city\\'s financial future. Once completed, the program will allow residents to manipulate variables to see their eventual consequences, such as tax increases or extensions and proposed developments \"This really isn\\'t a budget, it is a forecast to see the intervention of these decisions,\" Williams said in an interview with The Davis Enterprise. \"What happens if we extend the sales tax? What does it do given the other numbers that are in?\" Project Toto enables users, whether it be a curious Davis resident, a concerned community member or a city leader, with the ability to project city finances with differing variables. The online program consists of the 400-page city budget for the 2016-2017 fiscal year, the previous budget, staff reports and consultant analyses. All of the documents are cited and accessible to the public within Project Toto. \"It\\'s a model that very easily lends itself to visual representation,\" Mayor Robb Davis said. \"You can see the impacts of decisions the council makes on the fiscal health of the city.\" Complementary to this program, there is also a more advanced version of the model with more in-depth analyses of the city\\'s finances. However, for an easy-to-understand, simplistic overview, Project Toto should be enough to help residents comprehend Davis finances. There is still more to do on the project, but its creators are hard at work trying to finalize it before the 2017-2018 fiscal year budget. \"It\\'s something I have been very much supportive of,\" Davis said. \"Transparency is not just something that I have been supportive of but something we have stated as a city council objective [ ] this fits very well with our attempt to inform the public of our challenges with our fiscal situation.\" ',\n",
    "    'title': 'Project Toto aims to address questions regarding city finances',\n",
    "    'url': 'https://theaggie.org/2017/02/14/project-toto-aims-to-address-questions-regarding-city-finances/'\n",
    "}\n",
    "```\n",
    "\n",
    "Hints:\n",
    "\n",
    "* The author line is always the last line of the last paragraph.\n",
    "\n",
    "* If you are having trouble working with unicode characters see [the python 3 documentation](https://docs.python.org/3/howto/unicode.html)."
   ]
  },
  {
   "cell_type": "code",
   "execution_count": 5,
   "metadata": {},
   "outputs": [],
   "source": [
    "def article_scape(url):\n",
    "    \"\"\"\n",
    "    para: the url of the article\n",
    "    return: a dictionary with keys \"url\", \"title\", \"text\", and \"author\"\n",
    "    \"\"\"\n",
    "    response = requests.get(url)\n",
    "    response.raise_for_status()\n",
    "    doc = response.text\n",
    "    html = lx.fromstring(doc, base_url = url)\n",
    "    html.make_links_absolute()\n",
    "    title = [x.text_content() for x in html.xpath(\"//h1[@class ='entry-title']\")][0]\n",
    "    text1 = html.xpath(\"//p[position()<last()-2]\")\n",
    "    text2 = html.xpath(\"//p[position()>last()-3]\")\n",
    "    text = \" \".join([x.text_content() for x in text1])\n",
    "    #the author usually shows in the last line, if it doesn't show there, then we extract it from class \"author-name author\"\n",
    "    author = [x.text_content() for x in text2]\n",
    "    if 'written' in str(author[0]).lower()[0:12]:\n",
    "        author = author[0]\n",
    "    elif 'written' in str(author[1]).lower()[0:12]: \n",
    "        author = author[1]\n",
    "    elif 'written' in str(author[2]).lower()[0:12]:\n",
    "        author = author[2]\n",
    "    else:\n",
    "        author = html.xpath(\"//a[@class = 'author-name author']/text()\")[0]\n",
    "    content  = {\"author\":author, \"text\":text, \"title\": title, \"url\":url}\n",
    "    return content"
   ]
  },
  {
   "cell_type": "code",
   "execution_count": 6,
   "metadata": {},
   "outputs": [
    {
     "data": {
      "text/plain": [
       "{'author': 'Written by: Hannah Holzer — campus@theaggie.org',\n",
       " 'text': 'Proposed $978 tuition hike At the upcoming UC Regents meeting which will take place from March 13 to 15 at UCLA, the Regents will vote on a proposed tuition increase for non-California residents who attend the UCs. The proposed tuition hike is an increase of $978 — a 3.5 percent hike. The fee increase would result in an additional $34.8 million for the UC. In May, the Regents will vote on a proposed tuition hike of $342 for in-state students. The UC Regents were originally supposed to vote on the proposed tuition hikes earlier this year, in January, but after widespread student backlash — including at UC Davis — the vote was delayed. In the online Executive Summary of the action item on the “Approval of Nonresident Supplemental Tuition,” the Regents are asked to approve the tuition hike “because ongoing discussions with the State are unlikely to change.” Earlier this year, California Governor Jerry Brown proposed a smaller increase in state funding to the UC for 2018-19 than expected. “In January, the Board decided to table full consideration of the 2018-19 budget plan until May,” the summary states. “Between January and May, the Board asked for complete presentations of the University’s cost structure and financial aid programs. In addition, further discussions with the State were sought in the event that additional levels of State support for the University’s budget could avoid the need for increases in student charges that were proposed in the budget plan.” Included in the same action item is a recommendation for a cancellation of “previously approved increases to employer contribution rates to the University of California Retirement Plan.” The Regents will vote on this action item on Wednesday, March 14.  The student group Students for a Democratic Society is planning to hold a “Rally & Teach-in to Save Public Education” on March 14. Participants have planned to march from the SCC to the Memorial Union at noon and hold a teach-in at 12:45 p.m. at the MU. “Education is a RIGHT!” the Facebook event page states. “#DemocratizeUC!”',\n",
       " 'title': 'UC Regents will vote on nonresident tuition hike on Wednesday',\n",
       " 'url': 'https://theaggie.org/2018/03/12/uc-regents-will-vote-on-nonresident-tuition-hike-on-wednesday/'}"
      ]
     },
     "execution_count": 6,
     "metadata": {},
     "output_type": "execute_result"
    }
   ],
   "source": [
    "article_scape(\"https://theaggie.org/2018/03/12/uc-regents-will-vote-on-nonresident-tuition-hike-on-wednesday/\")"
   ]
  },
  {
   "cell_type": "markdown",
   "metadata": {},
   "source": [
    "__Exercise 1.3.__ Use your functions from exercises 1.1 and 1.2 to get a data frame of 60 [Campus News](https://theaggie.org/campus/) articles and a data frame of 60 [City News](https://theaggie.org/city/) articles. Add a column to each that indicates the category, then combine them into one big data frame.\n",
    "\n",
    "The \"text\" column of this data frame will be your corpus for natural language processing in exercise 1.4."
   ]
  },
  {
   "cell_type": "code",
   "execution_count": 7,
   "metadata": {},
   "outputs": [
    {
     "data": {
      "text/html": [
       "<div>\n",
       "<style scoped>\n",
       "    .dataframe tbody tr th:only-of-type {\n",
       "        vertical-align: middle;\n",
       "    }\n",
       "\n",
       "    .dataframe tbody tr th {\n",
       "        vertical-align: top;\n",
       "    }\n",
       "\n",
       "    .dataframe thead th {\n",
       "        text-align: right;\n",
       "    }\n",
       "</style>\n",
       "<table border=\"1\" class=\"dataframe\">\n",
       "  <thead>\n",
       "    <tr style=\"text-align: right;\">\n",
       "      <th></th>\n",
       "      <th>author</th>\n",
       "      <th>text</th>\n",
       "      <th>title</th>\n",
       "      <th>url</th>\n",
       "      <th>category</th>\n",
       "    </tr>\n",
       "  </thead>\n",
       "  <tbody>\n",
       "    <tr>\n",
       "      <th>0</th>\n",
       "      <td>Written by: George Liao — campus@theaggie.org</td>\n",
       "      <td>Funding for Student Advocates for Mental Healt...</td>\n",
       "      <td>Last week in Senate</td>\n",
       "      <td>https://theaggie.org/2018/03/13/last-week-in-s...</td>\n",
       "      <td>campus</td>\n",
       "    </tr>\n",
       "    <tr>\n",
       "      <th>1</th>\n",
       "      <td>Written by: Hannah Holzer — campus@theaggie.org</td>\n",
       "      <td>Proposed $978 tuition hike At the upcoming UC ...</td>\n",
       "      <td>UC Regents will vote on nonresident tuition hi...</td>\n",
       "      <td>https://theaggie.org/2018/03/12/uc-regents-wil...</td>\n",
       "      <td>campus</td>\n",
       "    </tr>\n",
       "    <tr>\n",
       "      <th>2</th>\n",
       "      <td>Written by: Sabrina Habchi — campus@theaggie.org</td>\n",
       "      <td>Controversy over academic honesty suspicions i...</td>\n",
       "      <td>Cheating allegations in SOC 46A</td>\n",
       "      <td>https://theaggie.org/2018/03/12/cheating-alleg...</td>\n",
       "      <td>campus</td>\n",
       "    </tr>\n",
       "    <tr>\n",
       "      <th>3</th>\n",
       "      <td>Written by: Jacqueline Moore — campus@theaggie...</td>\n",
       "      <td>Task forces to review affordable housing, food...</td>\n",
       "      <td>Chancellor creates three task forces to improv...</td>\n",
       "      <td>https://theaggie.org/2018/03/12/chancellor-cre...</td>\n",
       "      <td>campus</td>\n",
       "    </tr>\n",
       "    <tr>\n",
       "      <th>4</th>\n",
       "      <td>Written by: Jacqueline Moore — campus@theaggie...</td>\n",
       "      <td>Guy-Uriel Charles speaks at King Hall Duke Uni...</td>\n",
       "      <td>Duke law professor presents lecture on voting ...</td>\n",
       "      <td>https://theaggie.org/2018/03/06/duke-law-profe...</td>\n",
       "      <td>campus</td>\n",
       "    </tr>\n",
       "  </tbody>\n",
       "</table>\n",
       "</div>"
      ],
      "text/plain": [
       "                                              author  \\\n",
       "0      Written by: George Liao — campus@theaggie.org   \n",
       "1    Written by: Hannah Holzer — campus@theaggie.org   \n",
       "2   Written by: Sabrina Habchi — campus@theaggie.org   \n",
       "3  Written by: Jacqueline Moore — campus@theaggie...   \n",
       "4  Written by: Jacqueline Moore — campus@theaggie...   \n",
       "\n",
       "                                                text  \\\n",
       "0  Funding for Student Advocates for Mental Healt...   \n",
       "1  Proposed $978 tuition hike At the upcoming UC ...   \n",
       "2  Controversy over academic honesty suspicions i...   \n",
       "3  Task forces to review affordable housing, food...   \n",
       "4  Guy-Uriel Charles speaks at King Hall Duke Uni...   \n",
       "\n",
       "                                               title  \\\n",
       "0                                Last week in Senate   \n",
       "1  UC Regents will vote on nonresident tuition hi...   \n",
       "2                    Cheating allegations in SOC 46A   \n",
       "3  Chancellor creates three task forces to improv...   \n",
       "4  Duke law professor presents lecture on voting ...   \n",
       "\n",
       "                                                 url category  \n",
       "0  https://theaggie.org/2018/03/13/last-week-in-s...   campus  \n",
       "1  https://theaggie.org/2018/03/12/uc-regents-wil...   campus  \n",
       "2  https://theaggie.org/2018/03/12/cheating-alleg...   campus  \n",
       "3  https://theaggie.org/2018/03/12/chancellor-cre...   campus  \n",
       "4  https://theaggie.org/2018/03/06/duke-law-profe...   campus  "
      ]
     },
     "execution_count": 7,
     "metadata": {},
     "output_type": "execute_result"
    }
   ],
   "source": [
    "campus_url = web_scrap(\"https://theaggie.org/campus/\", page = 4)\n",
    "campus_df = pd.DataFrame([article_scape(x) for x in campus_url])\n",
    "campus_df[\"category\"] = \"campus\"\n",
    "campus_df.head()"
   ]
  },
  {
   "cell_type": "code",
   "execution_count": 8,
   "metadata": {},
   "outputs": [
    {
     "data": {
      "text/html": [
       "<div>\n",
       "<style scoped>\n",
       "    .dataframe tbody tr th:only-of-type {\n",
       "        vertical-align: middle;\n",
       "    }\n",
       "\n",
       "    .dataframe tbody tr th {\n",
       "        vertical-align: top;\n",
       "    }\n",
       "\n",
       "    .dataframe thead th {\n",
       "        text-align: right;\n",
       "    }\n",
       "</style>\n",
       "<table border=\"1\" class=\"dataframe\">\n",
       "  <thead>\n",
       "    <tr style=\"text-align: right;\">\n",
       "      <th></th>\n",
       "      <th>author</th>\n",
       "      <th>text</th>\n",
       "      <th>title</th>\n",
       "      <th>url</th>\n",
       "      <th>category</th>\n",
       "    </tr>\n",
       "  </thead>\n",
       "  <tbody>\n",
       "    <tr>\n",
       "      <th>0</th>\n",
       "      <td>theaggie</td>\n",
       "      <td>Who is Monica? Feb. 19 “Heard only for last 10...</td>\n",
       "      <td>Police Logs</td>\n",
       "      <td>https://theaggie.org/2018/03/13/police-logs-44/</td>\n",
       "      <td>city</td>\n",
       "    </tr>\n",
       "    <tr>\n",
       "      <th>1</th>\n",
       "      <td>Written by: Genevieve Murphy-Skilling — city@t...</td>\n",
       "      <td>Students bike in freezing conditions to help p...</td>\n",
       "      <td>Davis students pedal for polar bears</td>\n",
       "      <td>https://theaggie.org/2018/03/13/davis-students...</td>\n",
       "      <td>city</td>\n",
       "    </tr>\n",
       "    <tr>\n",
       "      <th>2</th>\n",
       "      <td>Written by: Rabiya Oberoi — city@theaggie.org</td>\n",
       "      <td>Yolo Interfaith Alliance for Climate Justice h...</td>\n",
       "      <td>Sixth annual climate conference: growing resil...</td>\n",
       "      <td>https://theaggie.org/2018/03/12/sixth-annual-c...</td>\n",
       "      <td>city</td>\n",
       "    </tr>\n",
       "    <tr>\n",
       "      <th>3</th>\n",
       "      <td>Written by: Stella Tran — city@theaggie.org</td>\n",
       "      <td>Financial Oversight Committee has open seats t...</td>\n",
       "      <td>New committee members to join Yolo County</td>\n",
       "      <td>https://theaggie.org/2018/03/11/new-committee-...</td>\n",
       "      <td>city</td>\n",
       "    </tr>\n",
       "    <tr>\n",
       "      <th>4</th>\n",
       "      <td>Written by: Hannan Waliullah — city@theaggie.org</td>\n",
       "      <td>Workshop aimed to help parents understand chil...</td>\n",
       "      <td>Yolo Rainbow Families hosts workshops about ge...</td>\n",
       "      <td>https://theaggie.org/2018/03/11/yolo-rainbow-f...</td>\n",
       "      <td>city</td>\n",
       "    </tr>\n",
       "  </tbody>\n",
       "</table>\n",
       "</div>"
      ],
      "text/plain": [
       "                                              author  \\\n",
       "0                                           theaggie   \n",
       "1  Written by: Genevieve Murphy-Skilling — city@t...   \n",
       "2      Written by: Rabiya Oberoi — city@theaggie.org   \n",
       "3        Written by: Stella Tran — city@theaggie.org   \n",
       "4   Written by: Hannan Waliullah — city@theaggie.org   \n",
       "\n",
       "                                                text  \\\n",
       "0  Who is Monica? Feb. 19 “Heard only for last 10...   \n",
       "1  Students bike in freezing conditions to help p...   \n",
       "2  Yolo Interfaith Alliance for Climate Justice h...   \n",
       "3  Financial Oversight Committee has open seats t...   \n",
       "4  Workshop aimed to help parents understand chil...   \n",
       "\n",
       "                                               title  \\\n",
       "0                                        Police Logs   \n",
       "1               Davis students pedal for polar bears   \n",
       "2  Sixth annual climate conference: growing resil...   \n",
       "3          New committee members to join Yolo County   \n",
       "4  Yolo Rainbow Families hosts workshops about ge...   \n",
       "\n",
       "                                                 url category  \n",
       "0    https://theaggie.org/2018/03/13/police-logs-44/     city  \n",
       "1  https://theaggie.org/2018/03/13/davis-students...     city  \n",
       "2  https://theaggie.org/2018/03/12/sixth-annual-c...     city  \n",
       "3  https://theaggie.org/2018/03/11/new-committee-...     city  \n",
       "4  https://theaggie.org/2018/03/11/yolo-rainbow-f...     city  "
      ]
     },
     "execution_count": 8,
     "metadata": {},
     "output_type": "execute_result"
    }
   ],
   "source": [
    "city_url = web_scrap(\"https://theaggie.org/city/\", page = 4)\n",
    "city_df = pd.DataFrame([article_scape(x) for x in city_url])\n",
    "city_df[\"category\"] = \"city\"\n",
    "city_df.head()"
   ]
  },
  {
   "cell_type": "code",
   "execution_count": 9,
   "metadata": {},
   "outputs": [
    {
     "data": {
      "text/html": [
       "<div>\n",
       "<style scoped>\n",
       "    .dataframe tbody tr th:only-of-type {\n",
       "        vertical-align: middle;\n",
       "    }\n",
       "\n",
       "    .dataframe tbody tr th {\n",
       "        vertical-align: top;\n",
       "    }\n",
       "\n",
       "    .dataframe thead th {\n",
       "        text-align: right;\n",
       "    }\n",
       "</style>\n",
       "<table border=\"1\" class=\"dataframe\">\n",
       "  <thead>\n",
       "    <tr style=\"text-align: right;\">\n",
       "      <th></th>\n",
       "      <th>author</th>\n",
       "      <th>text</th>\n",
       "      <th>title</th>\n",
       "      <th>url</th>\n",
       "      <th>category</th>\n",
       "    </tr>\n",
       "  </thead>\n",
       "  <tbody>\n",
       "    <tr>\n",
       "      <th>0</th>\n",
       "      <td>Written by: George Liao — campus@theaggie.org</td>\n",
       "      <td>Funding for Student Advocates for Mental Healt...</td>\n",
       "      <td>Last week in Senate</td>\n",
       "      <td>https://theaggie.org/2018/03/13/last-week-in-s...</td>\n",
       "      <td>campus</td>\n",
       "    </tr>\n",
       "    <tr>\n",
       "      <th>1</th>\n",
       "      <td>Written by: Hannah Holzer — campus@theaggie.org</td>\n",
       "      <td>Proposed $978 tuition hike At the upcoming UC ...</td>\n",
       "      <td>UC Regents will vote on nonresident tuition hi...</td>\n",
       "      <td>https://theaggie.org/2018/03/12/uc-regents-wil...</td>\n",
       "      <td>campus</td>\n",
       "    </tr>\n",
       "    <tr>\n",
       "      <th>2</th>\n",
       "      <td>Written by: Sabrina Habchi — campus@theaggie.org</td>\n",
       "      <td>Controversy over academic honesty suspicions i...</td>\n",
       "      <td>Cheating allegations in SOC 46A</td>\n",
       "      <td>https://theaggie.org/2018/03/12/cheating-alleg...</td>\n",
       "      <td>campus</td>\n",
       "    </tr>\n",
       "    <tr>\n",
       "      <th>3</th>\n",
       "      <td>Written by: Jacqueline Moore — campus@theaggie...</td>\n",
       "      <td>Task forces to review affordable housing, food...</td>\n",
       "      <td>Chancellor creates three task forces to improv...</td>\n",
       "      <td>https://theaggie.org/2018/03/12/chancellor-cre...</td>\n",
       "      <td>campus</td>\n",
       "    </tr>\n",
       "    <tr>\n",
       "      <th>4</th>\n",
       "      <td>Written by: Jacqueline Moore — campus@theaggie...</td>\n",
       "      <td>Guy-Uriel Charles speaks at King Hall Duke Uni...</td>\n",
       "      <td>Duke law professor presents lecture on voting ...</td>\n",
       "      <td>https://theaggie.org/2018/03/06/duke-law-profe...</td>\n",
       "      <td>campus</td>\n",
       "    </tr>\n",
       "  </tbody>\n",
       "</table>\n",
       "</div>"
      ],
      "text/plain": [
       "                                              author  \\\n",
       "0      Written by: George Liao — campus@theaggie.org   \n",
       "1    Written by: Hannah Holzer — campus@theaggie.org   \n",
       "2   Written by: Sabrina Habchi — campus@theaggie.org   \n",
       "3  Written by: Jacqueline Moore — campus@theaggie...   \n",
       "4  Written by: Jacqueline Moore — campus@theaggie...   \n",
       "\n",
       "                                                text  \\\n",
       "0  Funding for Student Advocates for Mental Healt...   \n",
       "1  Proposed $978 tuition hike At the upcoming UC ...   \n",
       "2  Controversy over academic honesty suspicions i...   \n",
       "3  Task forces to review affordable housing, food...   \n",
       "4  Guy-Uriel Charles speaks at King Hall Duke Uni...   \n",
       "\n",
       "                                               title  \\\n",
       "0                                Last week in Senate   \n",
       "1  UC Regents will vote on nonresident tuition hi...   \n",
       "2                    Cheating allegations in SOC 46A   \n",
       "3  Chancellor creates three task forces to improv...   \n",
       "4  Duke law professor presents lecture on voting ...   \n",
       "\n",
       "                                                 url category  \n",
       "0  https://theaggie.org/2018/03/13/last-week-in-s...   campus  \n",
       "1  https://theaggie.org/2018/03/12/uc-regents-wil...   campus  \n",
       "2  https://theaggie.org/2018/03/12/cheating-alleg...   campus  \n",
       "3  https://theaggie.org/2018/03/12/chancellor-cre...   campus  \n",
       "4  https://theaggie.org/2018/03/06/duke-law-profe...   campus  "
      ]
     },
     "execution_count": 9,
     "metadata": {},
     "output_type": "execute_result"
    }
   ],
   "source": [
    "data = pd.concat([campus_df,city_df])\n",
    "data.head()"
   ]
  },
  {
   "cell_type": "markdown",
   "metadata": {},
   "source": [
    "__Exercise 1.4.__ Use the Aggie corpus to answer the following questions. Use plots to support your analysis.\n",
    "\n",
    "* What topics does the Aggie cover the most? Do city articles typically cover different topics than campus articles?\n",
    "\n",
    "* What are the titles of the top 3 pairs of most similar articles? Examine each pair of articles. What words do they have in common?\n",
    "\n",
    "* Do you think this corpus is representative of the Aggie? Why or why not? What kinds of inference can this corpus support? Explain your reasoning.\n",
    "\n",
    "Hints:\n",
    "\n",
    "*   The [nltk book](http://www.nltk.org/book/) and [scikit-learn documentation](http://scikit-learn.org/stable/modules/feature_extraction.html#text-feature-extraction) may be helpful here.\n",
    "\n",
    "*   You can determine whether city articles are \"near\" campus articles from the similarity matrix or with k-nearest neighbors.\n",
    "\n",
    "*   If you want, you can use the [wordcloud](http://amueller.github.io/word_cloud/) package to plot a word cloud. To install the package, run\n",
    "    ```\n",
    "    conda install -c https://conda.anaconda.org/amueller wordcloud\n",
    "    ```\n",
    "    in a terminal. Word clouds look nice and are easy to read, but are less precise than bar plots."
   ]
  },
  {
   "cell_type": "code",
   "execution_count": 10,
   "metadata": {},
   "outputs": [
    {
     "name": "stdout",
     "output_type": "stream",
     "text": [
      "[nltk_data] Downloading package punkt to /Users/zihanxiao/nltk_data...\n",
      "[nltk_data]   Package punkt is already up-to-date!\n",
      "[nltk_data] Downloading package averaged_perceptron_tagger to\n",
      "[nltk_data]     /Users/zihanxiao/nltk_data...\n",
      "[nltk_data]   Package averaged_perceptron_tagger is already up-to-\n",
      "[nltk_data]       date!\n",
      "[nltk_data] Downloading package brown to /Users/zihanxiao/nltk_data...\n",
      "[nltk_data]   Package brown is already up-to-date!\n",
      "[nltk_data] Downloading package wordnet to\n",
      "[nltk_data]     /Users/zihanxiao/nltk_data...\n",
      "[nltk_data]   Package wordnet is already up-to-date!\n",
      "[nltk_data] Downloading package stopwords to\n",
      "[nltk_data]     /Users/zihanxiao/nltk_data...\n",
      "[nltk_data]   Package stopwords is already up-to-date!\n"
     ]
    }
   ],
   "source": [
    "import nltk\n",
    "nltk.download(\"punkt\")\n",
    "nltk.download(\"averaged_perceptron_tagger\")\n",
    "nltk.download(\"brown\")\n",
    "nltk.download(\"wordnet\")\n",
    "nltk.download(\"stopwords\")\n",
    "from textblob import TextBlob\n",
    "from nltk.corpus import stopwords\n",
    "from nltk.corpus import wordnet\n",
    "import re\n",
    "\n",
    "def wordnet_pos(tag):\n",
    "    \"\"\"Map a Brown POS tag to a WordNet POS tag.\"\"\"\n",
    "    \n",
    "    table = {\"N\": wordnet.NOUN, \"V\": wordnet.VERB, \"R\": wordnet.ADV, \"J\": wordnet.ADJ}\n",
    "    \n",
    "    # Default to a noun.\n",
    "    return table.get(tag[0], wordnet.NOUN)\n",
    "\n",
    "stop = stopwords.words(\"english\")"
   ]
  },
  {
   "cell_type": "markdown",
   "metadata": {},
   "source": [
    "## Question 1\n",
    "What topics does the Aggie cover the most? Do city articles typically cover different topics than campus articles?"
   ]
  },
  {
   "cell_type": "code",
   "execution_count": 21,
   "metadata": {},
   "outputs": [
    {
     "data": {
      "text/plain": [
       "TextBlob(\"Proposed  tuition hike At the upcoming UC Regents meeting which will take place from March  to  at UCLA the Regents will vote on a proposed tuition increase for nonCalifornia residents who attend the UCs The proposed tuition hike is an increase of   a  percent hike The fee increase would result in an additional  million for the UC In May the Regents will vote on a proposed tuition hike of  for instate students The UC Regents were originally supposed to vote on the proposed tuition hikes earlier this year in January but after widespread student backlash  including at UC Davis  the vote was delayed In the online Executive Summary of the action item on the Approval of Nonresident Supplemental Tuition the Regents are asked to approve the tuition hike because ongoing discussions with the State are unlikely to change Earlier this year California Governor Jerry Brown proposed a smaller increase in state funding to the UC for  than expected In January the Board decided to table full consideration of the  budget plan until May the summary states Between January and May the Board asked for complete presentations of the Universitys cost structure and financial aid programs In addition further discussions with the State were sought in the event that additional levels of State support for the Universitys budget could avoid the need for increases in student charges that were proposed in the budget plan Included in the same action item is a recommendation for a cancellation of previously approved increases to employer contribution rates to the University of California Retirement Plan The Regents will vote on this action item on Wednesday March   The student group Students for a Democratic Society is planning to hold a Rally  Teachin to Save Public Education on March  Participants have planned to march from the SCC to the Memorial Union at noon and hold a teachin at  pm at the MU Education is a RIGHT the Facebook event page states DemocratizeUC\")"
      ]
     },
     "execution_count": 21,
     "metadata": {},
     "output_type": "execute_result"
    }
   ],
   "source": [
    "blob = TextBlob(re.sub('[^a-zA-Z ]',\"\",data.iloc[1,1]))\n",
    "blob"
   ]
  },
  {
   "cell_type": "code",
   "execution_count": 22,
   "metadata": {},
   "outputs": [
    {
     "data": {
      "text/plain": [
       "'Proposed $978 tuition hike At the upcoming UC Regents meeting which will take place from March 13 to 15 at UCLA, the Regents will vote on a proposed tuition increase for non-California residents who attend the UCs. The proposed tuition hike is an increase of $978 — a 3.5 percent hike. The fee increase would result in an additional $34.8 million for the UC. In May, the Regents will vote on a proposed tuition hike of $342 for in-state students. The UC Regents were originally supposed to vote on the proposed tuition hikes earlier this year, in January, but after widespread student backlash — including at UC Davis — the vote was delayed. In the online Executive Summary of the action item on the “Approval of Nonresident Supplemental Tuition,” the Regents are asked to approve the tuition hike “because ongoing discussions with the State are unlikely to change.” Earlier this year, California Governor Jerry Brown proposed a smaller increase in state funding to the UC for 2018-19 than expected. “In January, the Board decided to table full consideration of the 2018-19 budget plan until May,” the summary states. “Between January and May, the Board asked for complete presentations of the University’s cost structure and financial aid programs. In addition, further discussions with the State were sought in the event that additional levels of State support for the University’s budget could avoid the need for increases in student charges that were proposed in the budget plan.” Included in the same action item is a recommendation for a cancellation of “previously approved increases to employer contribution rates to the University of California Retirement Plan.” The Regents will vote on this action item on Wednesday, March 14.  The student group Students for a Democratic Society is planning to hold a “Rally & Teach-in to Save Public Education” on March 14. Participants have planned to march from the SCC to the Memorial Union at noon and hold a teach-in at 12:45 p.m. at the MU. “Education is a RIGHT!” the Facebook event page states. “#DemocratizeUC!”'"
      ]
     },
     "execution_count": 22,
     "metadata": {},
     "output_type": "execute_result"
    }
   ],
   "source": [
    "data.iloc[1,1]"
   ]
  },
  {
   "cell_type": "code",
   "execution_count": 47,
   "metadata": {},
   "outputs": [],
   "source": [
    "def topic_word(corpus):\n",
    "    \"\"\"\n",
    "    para: a list of corpus we want to use,\n",
    "    return: a data frame with repeated key words and the corresponding sum of frequency in each article\n",
    "    \"\"\"\n",
    "    for i in range(len(corpus)):\n",
    "        blob = TextBlob(re.sub('[^a-zA-Z ]',\"\",corpus[i]))\n",
    "        new_text = \" \".join(w for w in blob.words if w.lower() not in stop)\n",
    "        blob = TextBlob(new_text)\n",
    "        tags = [wordnet_pos(x[1]) for x in blob.pos_tags]\n",
    "        new_text = \" \".join(x.lemmatize(t) for x, t in zip(blob.words, tags))\n",
    "        blob = TextBlob(new_text)\n",
    "        corpus[i] = blob\n",
    "    fre = pd.DataFrame(d.word_counts for d in corpus).T\n",
    "    fre = fre.fillna(0)\n",
    "    fre = fre/fre.sum(axis=0)\n",
    "    count = pd.DataFrame(fre.apply(sum, axis=1), columns = ['fre_sum'])\n",
    "    count = count.sort_values(by = 'fre_sum', ascending = False)\n",
    "    return count"
   ]
  },
  {
   "cell_type": "code",
   "execution_count": 48,
   "metadata": {},
   "outputs": [],
   "source": [
    "from matplotlib import pyplot as plt"
   ]
  },
  {
   "cell_type": "code",
   "execution_count": 144,
   "metadata": {},
   "outputs": [
    {
     "data": {
      "image/png": "[encoded data removed]",
      "text/plain": [
       "<matplotlib.figure.Figure at 0x10cb74f28>"
      ]
     },
     "metadata": {},
     "output_type": "display_data"
    }
   ],
   "source": [
    "# draw bar plot to show the most frequent key words\n",
    "aggie_text = list(data[\"text\"])\n",
    "aggie_fre = topic_word(aggie_text).head(20)\n",
    "a = list(aggie_fre.index)\n",
    "a1 = range(len(a))\n",
    "b = list(aggie_fre.fre_sum)\n",
    "plt.figure(figsize = (17,8))\n",
    "plt.bar(a1,b)\n",
    "plt.xticks(a1,a)\n",
    "plt.title(\"The sum of frequncy for top 20 words in each text for the Aggies\")\n",
    "plt.show()"
   ]
  },
  {
   "cell_type": "code",
   "execution_count": 49,
   "metadata": {},
   "outputs": [
    {
     "data": {
      "image/png": "[encoded data removed]",
      "text/plain": [
       "<matplotlib.figure.Figure at 0x1a19b79208>"
      ]
     },
     "metadata": {},
     "output_type": "display_data"
    }
   ],
   "source": [
    "# draw bar plot to show the most frequent key words\n",
    "campus_text = list(data[data[\"category\"] == \"campus\"].text)\n",
    "campus_fre = topic_word(campus_text).head(20)\n",
    "a = list(campus_fre.index)\n",
    "a1 = range(len(a))\n",
    "b = list(campus_fre.fre_sum)\n",
    "plt.figure(figsize = (17,8))\n",
    "plt.bar(a1,b)\n",
    "plt.xticks(a1,a)\n",
    "plt.title(\"The sum of frequncy for top 20 words in each text for the campus news\")\n",
    "plt.show()"
   ]
  },
  {
   "cell_type": "code",
   "execution_count": 50,
   "metadata": {},
   "outputs": [
    {
     "data": {
      "image/png": "[encoded data removed]",
      "text/plain": [
       "<matplotlib.figure.Figure at 0x1a19d86470>"
      ]
     },
     "metadata": {},
     "output_type": "display_data"
    }
   ],
   "source": [
    "# draw bar plot to show the most frequent key words\n",
    "city_text = list(data[data[\"category\"] == \"city\"].text)\n",
    "city_fre = topic_word(city_text).head(20)\n",
    "a = list(city_fre.index)\n",
    "a1 = range(len(a))\n",
    "b = list(city_fre.fre_sum)\n",
    "plt.figure(figsize = (17,8))\n",
    "plt.bar(a1,b)\n",
    "plt.xticks(a1,a)\n",
    "plt.title(\"The sum of frequncy for top 20 words in each text for the city news\")\n",
    "plt.show()"
   ]
  },
  {
   "cell_type": "markdown",
   "metadata": {},
   "source": [
    "From these 3 bar plot we can know that uc davis students is the hottest topic in the Aggies. And except those words that always use in ucdaivs website articles, such as \"uc\", \"davis\" and \"say\", other key words are showed with different frequency. In campus news, the frequent words, which can be interpreted as topics, include \"student\", \"asucd\", \"major\", \"health\" and etc. However, in city news, it focus more on \"reporting\", \"city\", \"project\" and \"housing\", which is obviously different from the topics in campus news."
   ]
  },
  {
   "cell_type": "markdown",
   "metadata": {},
   "source": [
    "## Question 2\n",
    "What are the titles of the top 3 pairs of most similar articles? Examine each pair of articles. What words do they have in common?"
   ]
  },
  {
   "cell_type": "code",
   "execution_count": 51,
   "metadata": {},
   "outputs": [],
   "source": [
    "from sklearn.feature_extraction.text import TfidfVectorizer\n",
    "def find_top_pairs(data):\n",
    "    \"\"\"\n",
    "    para: a list contain the corpus we study\n",
    "    return: list of the top 3 pairs of most similar articles\n",
    "    \"\"\"\n",
    "    tf_idf = TfidfVectorizer().fit_transform(title)\n",
    "    spar_matrix = (tf_idf * tf_idf.T).A\n",
    "    diag_matrix = np.diag(np.diag(spar_matrix))\n",
    "    new_matrix = (spar_matrix-diag_matrix)\n",
    "    new_df = pd.DataFrame(columns = [\"row\", \"column\", \"value\"])\n",
    "    for i in range(len(title)):\n",
    "        for j in range(i+1, len(title)):\n",
    "            df = pd.DataFrame({\"row\": [i], \"column\": [j], \"value\": new_matrix[i][j]})\n",
    "            new_df = pd.concat([new_df, df])\n",
    "            new_df = new_df.sort_values(by = \"value\", ascending = False).head(3)\n",
    "    return [[data[x],data[y]] for x, y in zip(list(new_df.row), list(new_df.column))]"
   ]
  },
  {
   "cell_type": "code",
   "execution_count": 52,
   "metadata": {},
   "outputs": [
    {
     "data": {
      "text/plain": [
       "[['Police Logs', 'Police Logs'],\n",
       " ['Police Logs', 'Police Logs'],\n",
       " ['Police Logs', 'Police Logs']]"
      ]
     },
     "execution_count": 52,
     "metadata": {},
     "output_type": "execute_result"
    }
   ],
   "source": [
    "title = list(data[\"title\"])\n",
    "find_top_pairs(title)"
   ]
  },
  {
   "cell_type": "code",
   "execution_count": 53,
   "metadata": {},
   "outputs": [
    {
     "data": {
      "text/plain": [
       "[('Police Logs', 11),\n",
       " ('Last week in Senate', 4),\n",
       " ('UC Regents will vote on nonresident tuition hike on Wednesday', 1),\n",
       " ('Cheating allegations in SOC 46A', 1),\n",
       " ('Chancellor creates three task forces to improve student life', 1),\n",
       " ('Duke law professor presents lecture on voting rights law', 1),\n",
       " ('Last Week in Senate', 1),\n",
       " ('ICC warns students to be wary of suspicious job offering', 1),\n",
       " ('UC Davis student protester arrested at Yiannopoulos talk last year awaits trial',\n",
       "  1),\n",
       " ('Executive ticket candidates claim biases against non-ASUCD affiliated individuals',\n",
       "  1),\n",
       " ('Happiness Campaign strives for less stress, more joy', 1),\n",
       " ('Senator Term Review: Yajaira Ramirez Sigala', 1),\n",
       " ('CALPIRG’s Winter Quarter pledge drives', 1),\n",
       " ('ASUCD election results announced', 1),\n",
       " ('Sexual Violence Prevention and Response Board created', 1),\n",
       " ('In Memoriam: Markos Huerta', 1),\n",
       " ('Traditional Chinese music classes to be offered through UC Davis Confucius Institute',\n",
       "  1),\n",
       " ('ASUCD executive tickets hold CoHo debate', 1),\n",
       " ('Mental Health Town Hall erupts in protest', 1),\n",
       " ('ASUCD Senate candidates debate to largely inattentive crowd', 1),\n",
       " ('Adam Hatefi and Shreya Deshpande disqualified after missing mandatory Candidate Workshop',\n",
       "  1),\n",
       " ('Last Week In Senate', 1),\n",
       " ('Formerly incarcerated students publish zine to spread stories', 1),\n",
       " ('UAW and UCOP to start collective bargaining in March', 1),\n",
       " ('Senator Term Review: Marcos Rodriguez', 1),\n",
       " ('2018 ASUCD Winter Elections — meet the candidates', 1),\n",
       " ('Director of Counseling and Psychological Services terminated after raising concerns about allocation of mental health funds',\n",
       "  1),\n",
       " ('PERIOD holds pad and tampon drive, first informational meeting', 1),\n",
       " ('Chancellor May appoints Kelly Ratliff as new vice chancellor', 1),\n",
       " ('Transgender author Janet Mock discusses intersectionality at UC Davis', 1),\n",
       " ('Journalist Todd Miller speaks about climate change, migration', 1),\n",
       " ('Senator term review: Michael Gofman', 1),\n",
       " ('Humanizing Deportation project tells story of deportees through video', 1),\n",
       " ('Chancellor Gary May, Professor Jay Lund elected to National Academy of Engineers',\n",
       "  1),\n",
       " ('Students for a Democratic Society meets with chancellor to address food, housing insecurity, budget mismanagement, tuition hike',\n",
       "  1),\n",
       " ('Recap of UC Board of Regents January meeting', 1),\n",
       " ('AFSCME workers picket at ARC', 1),\n",
       " ('Vice Chancellor named new president of San Diego State University', 1),\n",
       " ('Liberty In North Korea club hosts North Korean refugee at event', 1),\n",
       " ('Administrative panel held on Jan. 22 to discuss community issues', 1),\n",
       " ('Senator term review: Khadeja Ibrahim', 1),\n",
       " ('HackDavis hosts 24-hour coding marathon', 1),\n",
       " ('Internal audit reveals steep decline in counselors, $250,000 worth of questionably allocated funds',\n",
       "  1),\n",
       " ('Sold-out Mental Health Conference featured keynotes from Sacramento mayor, UCSB shooting survivor',\n",
       "  1),\n",
       " ('Beyond the Budget holds town hall in response to funding cut', 1),\n",
       " ('UC releases 150 year photo timeline', 1),\n",
       " ('People Power of Davis group works to achieve greater transparency from UC Davis Police Department',\n",
       "  1),\n",
       " ('Grants given by UC Davis Blum Center aim to alleviate poverty', 1),\n",
       " ('Senate bill to bring abortion pill to every public California college campus leaves committee',\n",
       "  1),\n",
       " ('UC Davis receives a record number of applicants for Fall 2018', 1),\n",
       " ('Students hold protest in solidarity with those impacted by TPS repeal', 1),\n",
       " ('700 students to attend 24-hour HackDavis hackathon on Jan. 20', 1),\n",
       " ('UC Regents postpone tuition hike vote until May', 1),\n",
       " ('Judicial Council hearing held over prospective ASUCD presidential candidate’s violation of campaign bylaws',\n",
       "  1),\n",
       " ('Blair Fox’s life, legacy', 1),\n",
       " ('On the Road with UC Davis Police', 1),\n",
       " ('Seven awards to be presented at Aggie Alumni Awards Ceremony', 1),\n",
       " ('UC Regents to vote over proposed increase to student tuition', 1),\n",
       " ('Davis students pedal for polar bears', 1),\n",
       " ('Sixth annual climate conference: growing resilient forests', 1),\n",
       " ('New committee members to join Yolo County', 1),\n",
       " ('Yolo Rainbow Families hosts workshops about gender-diverse children', 1),\n",
       " ('UC Davis student fighting for new city flag', 1),\n",
       " ('Soroptimist International of Greater Davis presents college scholarships to women',\n",
       "  1),\n",
       " ('Grant awarded to Yolo Hospice', 1),\n",
       " ('Davis Enterprise welcomes new editor', 1),\n",
       " ('Davis City Council candidate exits election race', 1),\n",
       " ('Electric buses coming to Sacramento', 1),\n",
       " ('Sacramento makes traffic safety a priority', 1),\n",
       " ('Sacramento left out of race to become Amazon’s newest home', 1),\n",
       " ('Controversy over historic Gibson House', 1),\n",
       " ('Davis Senior High’s Citrus Circuits aids Davis Police Department in finding homeless shelters',\n",
       "  1),\n",
       " ('Nishi 2.0 approved by City Council', 1),\n",
       " ('Krustaceans for Kids Crab Feed held on March 24', 1),\n",
       " ('Shelter for homeless', 1),\n",
       " ('Rachael McKinney appointed new CEO of Sutter Davis Hospital', 1),\n",
       " ('Revamping Sacramento International Airport', 1),\n",
       " ('Sacramento area museums hold annual Museum Day', 1),\n",
       " ('Davis Teachers Association calls community together', 1),\n",
       " ('New water meters coming to Davis', 1),\n",
       " ('Education on bike safety for youth', 1),\n",
       " ('Parking-protected bike lanes coming to major Sacramento street', 1),\n",
       " ('New affordable housing and emergency service center proposed', 1),\n",
       " ('City of Davis hosts cannabis workshop', 1),\n",
       " ('Davis City Council election gearing up', 1),\n",
       " ('Davis Chorale receives Harmony in Our Lives Award', 1),\n",
       " ('Women’s March Sacramento', 1),\n",
       " ('Sacramento Regional Transit experimenting with microtransit', 1),\n",
       " ('Interfaith Rotating Winter Shelter to be held in Davis', 1),\n",
       " ('Davis City Council debates aggressive-panhandling ordinance', 1),\n",
       " ('Programs to provide aid for low-income residents', 1),\n",
       " ('Sacramento native wins Golden Globe Award', 1),\n",
       " ('West Davis Active Adult Community in development', 1),\n",
       " ('Improving waste disposal', 1),\n",
       " ('Parcel Tax toward social service proposed for next bill', 1),\n",
       " ('Reviving Capay Open Space Park one plant at a time', 1),\n",
       " ('Two new high-rise office buildings coming to Sacramento', 1),\n",
       " ('Union Pacific considering shutdown of popular I-80 shortcut', 1),\n",
       " ('New ownership for Historic City Hall', 1),\n",
       " ('A helping hand for those in need', 1),\n",
       " ('Council to hire police oversight consultant', 1),\n",
       " ('Sacramento expected to land Fortune 500 company', 1),\n",
       " ('Local nonprofits receive $13,500 in Social Action Grants', 1),\n",
       " ('Social Services Commission meets to discuss West Davis Active Adult Community',\n",
       "  1),\n",
       " ('Monsanto protesters allege violation of rights', 1),\n",
       " ('Bike-share system to launch in Sacramento, Davis in 2018', 1),\n",
       " ('North Davis lot to go through habitat restoration', 1)]"
      ]
     },
     "execution_count": 53,
     "metadata": {},
     "output_type": "execute_result"
    }
   ],
   "source": [
    "#find the repeated titles\n",
    "import collections\n",
    "sorted(collections.Counter(title).items(), key = lambda item:item[1], reverse=True)"
   ]
  },
  {
   "cell_type": "code",
   "execution_count": 54,
   "metadata": {},
   "outputs": [
    {
     "data": {
      "text/plain": [
       "[['West Davis Active Adult Community in development',\n",
       "  'Social Services Commission meets to discuss West Davis Active Adult Community'],\n",
       " ['Senator Term Review: Marcos Rodriguez',\n",
       "  'Senator term review: Michael Gofman'],\n",
       " ['Senator Term Review: Marcos Rodriguez',\n",
       "  'Senator term review: Khadeja Ibrahim']]"
      ]
     },
     "execution_count": 54,
     "metadata": {},
     "output_type": "execute_result"
    }
   ],
   "source": [
    "#delete the repeated titles\n",
    "for i in range(len(title)):\n",
    "    if (title[i].lower() != 'police logs') & (title[i].lower() != 'last week in senate'):\n",
    "        title[i] = title[i]\n",
    "    else:\n",
    "        title[i] = \"\"\n",
    "find_top_pairs(title)"
   ]
  },
  {
   "cell_type": "markdown",
   "metadata": {},
   "source": [
    "From the output we can know that the first pair are both focus on \"West Davis Active Adult Community\", which is the same words. And the second and third pairs are both talking about \"Senator Term Review\"."
   ]
  },
  {
   "cell_type": "markdown",
   "metadata": {},
   "source": [
    "## Question 3\n",
    "Do you think this corpus is representative of the Aggie? Why or why not? What kinds of inference can this corpus support? Explain your reasoning."
   ]
  },
  {
   "cell_type": "code",
   "execution_count": 55,
   "metadata": {},
   "outputs": [
    {
     "data": {
      "image/png": "[encoded data removed]",
      "text/plain": [
       "<matplotlib.figure.Figure at 0x1a21cb7668>"
      ]
     },
     "metadata": {},
     "output_type": "display_data"
    }
   ],
   "source": [
    "sports_url = [web_scrap(\"https://theaggie.org/sports/\", page = x) for x in list(range(1,5))]\n",
    "sports_url = list(itertools.chain.from_iterable(sports_url))\n",
    "sports_df = pd.DataFrame([article_scape(x) for x in sports_url])\n",
    "sport_topic = topic_word(sports_df.text).head(20)\n",
    "a = list(sport_topic.index)\n",
    "a1 = range(len(a))\n",
    "b = list(sport_topic.fre_sum)\n",
    "plt.figure(figsize = (17,8))\n",
    "plt.bar(a1,b)\n",
    "plt.xticks(a1,a)\n",
    "plt.title(\"The sum of frequncy for top 20 words in each text for the sports topic\")\n",
    "plt.show()"
   ]
  },
  {
   "cell_type": "markdown",
   "metadata": {},
   "source": [
    "The Aggie has different categories. By analyzing the key words of sport category, it shows that it has different topics from the news part. In sports part, articles concentrate more on \"team\" and \"game\", while in news, these two words are not frequently appearing. "
   ]
  }
 ],
 "metadata": {
  "kernelspec": {
   "display_name": "Python 3",
   "language": "python",
   "name": "python3"
  },
  "language_info": {
   "codemirror_mode": {
    "name": "ipython",
    "version": 3
   },
   "file_extension": ".py",
   "mimetype": "text/x-python",
   "name": "python",
   "nbconvert_exporter": "python",
   "pygments_lexer": "ipython3",
   "version": "3.6.4"
  }
 },
 "nbformat": 4,
 "nbformat_minor": 2
}
